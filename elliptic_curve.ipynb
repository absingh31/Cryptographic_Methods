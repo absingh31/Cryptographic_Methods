{
 "cells": [
  {
   "cell_type": "markdown",
   "metadata": {},
   "source": [
    ""
   ]
  },
  {
   "cell_type": "markdown",
   "metadata": {},
   "source": [
    "# Implementing Elliptic Curve Crytography based on ElGamal Technique"
   ]
  },
  {
   "cell_type": "code",
   "execution_count": 1,
   "metadata": {
    "collapsed": true
   },
   "outputs": [],
   "source": [
    "# importing libraries\n",
    "import matplotlib.pyplot as plt\n",
    "import numpy as np\n",
    "from random import randint"
   ]
  },
  {
   "cell_type": "code",
   "execution_count": 2,
   "metadata": {
    "collapsed": true
   },
   "outputs": [],
   "source": [
    "# Function to plot graph\n",
    "def Plot_Graph(a,b):\n",
    "    print(\"\\nThe Graph for given equation is : \\n\")\n",
    "    fig, ax = plt.subplots()\n",
    "\n",
    "    y, x = np.ogrid[-4:4:1000j, -2:5:1000j]\n",
    "    plt.contour(\n",
    "        x.ravel(), y.ravel(), y**2 - x**3 - a*x -b, [0])\n",
    "    plt.show()\n",
    "\n",
    "# Generating points on Elliptic Curve\n",
    "def Point_Generation(a,b,prime):\n",
    "    print(\"\\n========================================================\\n\")\n",
    "    print(\"\\nPoints that lie on elliptical curve : \\n\")\n",
    "    Points_x, Points_y = [],[]\n",
    "    for x in range(1, prime):\n",
    "        for y in range(1, prime):\n",
    "            if (y ** 2) % prime == (x**3 + (a * x) + b) % prime:\n",
    "                Points_x.append(x)\n",
    "                Points_y.append(y)\n",
    "                print(\" => (%s,%s)\" %(x, y))\n",
    "    return Points_x, Points_y"
   ]
  },
  {
   "cell_type": "code",
   "execution_count": 3,
   "metadata": {
    "collapsed": true
   },
   "outputs": [],
   "source": [
    "# Finding Inverse Modulo\n",
    "def inverse(prime, num):\n",
    "    if num<0:\n",
    "        num = num + prime\n",
    "    for i in range(1, prime):\n",
    "        if (num * i) % prime == 1:\n",
    "            return i\n",
    "        # else:\n",
    "            #print (\"\\nERROR : Inverse Modulo of 0 isn't possible. Please check the values :)\")\n",
    "\n",
    "# Function to add to points on Ellipic Curve\n",
    "def Algebraic_Addition(x1, y1, x2, y2, a, prime):\n",
    "    if (x1 == x2) and (y1 == y2):\n",
    "        lamdba_value = (((3 * (x1 ** 2)) + a) * inverse(prime, (2 * y1))) % prime\n",
    "    else:\n",
    "        lamdba_value = ((y2 - y1) * inverse(prime, (x2 - x1))) % prime\n",
    "\n",
    "    x3 = ((lamdba_value**2) - x2 - x1) % prime\n",
    "    y3 = ((lamdba_value*(x1 - x3)) - y1) % prime\n",
    "    return x3, y3\n",
    "\n",
    "# Generating Base Points of Elliptic Curve\n",
    "def Base_Point(Points_x,Points_y,a,prime):\n",
    "    print(\"\\nThe Base Point(s) of given Elliptical Curve is :\\n\")\n",
    "    Temp, TempArray = 0, []\n",
    "\n",
    "    while ((Points_x.__len__()) != Temp):\n",
    "        TempArray.append(Points_x[Temp])\n",
    "        x1, y1 = Points_x[Temp], Points_y[Temp]\n",
    "\n",
    "        for i in range(1, (Points_x.__len__())):\n",
    "            print(\" => (%s,%s)\" %(x1, y1))\n",
    "            x1, y1 = Algebraic_Addition(x1, y1, Points_x[Temp], Points_y[Temp], a, prime)\n",
    "            TempArray.append(x1)\n",
    "\n",
    "        if set(Points_x).intersection(set(TempArray)) != 0:\n",
    "            Global_x, Global_y = Points_x[Temp], Points_y[Temp]\n",
    "            print(\"\\nSelected Base point:(%s,%s)\" %(Global_x, Global_y))\n",
    "            break\n",
    "        else:\n",
    "            Temp += 1\n",
    "            del TempArray[:]\n",
    "\n",
    "    return Global_x, Global_y"
   ]
  },
  {
   "cell_type": "code",
   "execution_count": 4,
   "metadata": {
    "collapsed": true
   },
   "outputs": [],
   "source": [
    "# Key Generation Process\n",
    "def Key_Generation(Global_x,Global_y,a,prime):\n",
    "    print(\"\\n===============================================\\n\")\n",
    "    print(\"Key Generation Process starts here : \\n\")\n",
    "\n",
    "    # Private Key Generation\n",
    "    privateKey = 2\n",
    "    print(\"The Random Number Chosen (The Private Key) is: \", privateKey)\n",
    "\n",
    "    # Public Key Generation\n",
    "    x1, y1 = Global_x, Global_y\n",
    "    for i in range(0, privateKey):\n",
    "        x1, y1 = Algebraic_Addition(x1, y1, Global_x, Global_y, a, prime)\n",
    "    PublicKey_x, PublicKey_y = x1, y1\n",
    "\n",
    "    # Random value 'k' Generation\n",
    "    k = randint(2, prime - 1)\n",
    "    print(\"\\nThe Random value k is : \", k)\n",
    "\n",
    "    # Generating C1 value\n",
    "    C1x, C1y = Global_x, Global_y\n",
    "    for i in range(0, k):\n",
    "        C1x, C1y = Algebraic_Addition(C1x, C1y, Global_x, Global_y, a, prime)\n",
    "    print(\"\\nThe CipherKey C1 is: (%s,%s)\" %(C1x,C1y))\n",
    "\n",
    "    # Generating C2 value\n",
    "    C2x, C2y = PublicKey_x, PublicKey_y\n",
    "    for i in range(0, k):\n",
    "        C2x, C2y = Algebraic_Addition(C2x, C2y, PublicKey_x, PublicKey_y, a, prime)\n",
    "    print(\"\\nThe CipherKey C2 is: (%s,%s)\" %(C2x,C2y))\n",
    "    return C1x,C1y,C2x,C2y,privateKey"
   ]
  },
  {
   "cell_type": "code",
   "execution_count": 5,
   "metadata": {
    "collapsed": true
   },
   "outputs": [],
   "source": [
    "# Generating Message coordinates (Here ASCII conversion)\n",
    "def Message_Generation(message,prime):\n",
    "    Mx, My = ord(message) - 96, ord(message) - 96\n",
    "    print (\"\\n=====================================================\\n\")\n",
    "    print (\"Encryption Process starts here : \\n\")\n",
    "    print (\"Message Coordinates are - (%s,%s)\\n\" %(Mx,My))\n",
    "    return Mx,My\n",
    "\n",
    "# Generating Cipher Text\n",
    "def Generation_CipherText(x,y,x1,y1,a,prime):\n",
    "    cipher_x, cipher_y = Algebraic_Addition(x, y, x1, y1, a, prime)\n",
    "    print(\"Cipher Text is: (%s,%s)\" %(cipher_x,cipher_y))\n",
    "    return cipher_x, cipher_y\n",
    "\n",
    "# Decryption Process\n",
    "def Decryption_Process(C1x,C1y,C2x,C2y,privateKey,a,prime):\n",
    "    print (\"\\n======================================================\\n\")\n",
    "    print (\"Decryption Process starts here : \\n\")\n",
    "    TempX, TempY = C1x, C1y\n",
    "    for i in range(0,privateKey):\n",
    "        TempX,TempY = Algebraic_Addition(TempX, TempY, C1x, C1y, a, prime)\n",
    "    DecryptX, DecryptY = Algebraic_Addition(TempX, (TempY*(-1) + prime), C2x, C2y, a, prime)\n",
    "    print(\"The Decrypted Message is: %s\" %(chr(DecryptX+96)))"
   ]
  },
  {
   "cell_type": "code",
   "execution_count": 8,
   "metadata": {},
   "outputs": [
    {
     "name": "stdout",
     "output_type": "stream",
     "text": [
      "\tEquation of elliptical curve is given by- \n",
      "\n",
      "\t\t y^2 = x^3 + a*x + b\n",
      "\n",
      "Please Enter a prime number:  13\n",
      "Please Enter the value of a:  1\n",
      "Please Enter the value of b:  1\n",
      "Please Enter the data to be send(Single letter between a-z): g\n",
      "\n",
      "The Graph for given equation is : \n",
      "\n"
     ]
    },
    {
     "data": {
      "image/png": "[encoded data removed]",
      "text/plain": [
       "<matplotlib.figure.Figure at 0x7ff1babe2f98>"
      ]
     },
     "metadata": {},
     "output_type": "display_data"
    },
    {
     "name": "stdout",
     "output_type": "stream",
     "text": [
      "\n",
      "========================================================\n",
      "\n",
      "\n",
      "Points that lie on elliptical curve : \n",
      "\n",
      " => (1,4)\n",
      " => (1,9)\n",
      " => (4,2)\n",
      " => (4,11)\n",
      " => (5,1)\n",
      " => (5,12)\n",
      " => (8,1)\n",
      " => (8,12)\n",
      " => (10,6)\n",
      " => (10,7)\n",
      " => (11,2)\n",
      " => (11,11)\n",
      " => (12,5)\n",
      " => (12,8)\n",
      "\n",
      "The Base Point(s) of given Elliptical Curve is :\n",
      "\n",
      " => (1,4)\n",
      " => (8,12)\n",
      " => (0,12)\n",
      " => (11,11)\n",
      " => (5,1)\n",
      " => (10,6)\n",
      " => (12,8)\n",
      " => (4,2)\n",
      " => (7,0)\n",
      " => (4,11)\n",
      " => (12,5)\n",
      " => (10,7)\n",
      " => (5,12)\n",
      "\n",
      "Selected Base point:(1,4)\n",
      "\n",
      "===============================================\n",
      "\n",
      "Key Generation Process starts here : \n",
      "\n",
      "The Random Number Chosen (The Private Key) is:  2\n",
      "\n",
      "The Random value k is :  4\n",
      "\n",
      "The CipherKey C1 is: (5,1)\n",
      "\n",
      "The CipherKey C2 is: (0,1)\n",
      "\n",
      "=====================================================\n",
      "\n",
      "Encryption Process starts here : \n",
      "\n",
      "Message Coordinates are - (7,7)\n",
      "\n",
      "Cipher Text is: (7,6)\n",
      "\n",
      "======================================================\n",
      "\n",
      "Decryption Process starts here : \n",
      "\n",
      "The Decrypted Message is: g\n"
     ]
    }
   ],
   "source": [
    "print(\"\\tEquation of elliptical curve is given by- \")\n",
    "print(\"\\n\\t\\t y^2 = x^3 + a*x + b\\n\")\n",
    "\n",
    "# Taking Input a,b and prime\n",
    "def Input_Data():\n",
    "    prime = int(input(\"Please Enter a prime number:  \"))\n",
    "    a = int(input(\"Please Enter the value of a:  \"))\n",
    "    b = int(input(\"Please Enter the value of b:  \"))\n",
    "    message = input(\"Please Enter the data to be send(Single letter between a-z): \")\n",
    "    if (((4 * (a ** 3)) + (27 * (b ** 2))) % prime) == 0:\n",
    "        print(\"\\nERROR : a and b values don't satisfy basic condition.\")\n",
    "        print(\"Enter again: \\n\")\n",
    "        Input_Data()\n",
    "    else:\n",
    "        return a, b, prime, message\n",
    "\n",
    "# Taking Input\n",
    "a, b, prime, message = Input_Data()\n",
    "\n",
    "# Plotting Graph\n",
    "Plot_Graph(a,b)\n",
    "\n",
    "# Generate Points on Elliptic Curve\n",
    "Points_x, Points_y = Point_Generation(a,b,prime)\n",
    "\n",
    "# Generating All Possible Base Points\n",
    "Global_x, Global_y = Base_Point(Points_x,Points_y,a,prime)\n",
    "\n",
    "# Generating C1 and C2 Keys\n",
    "C1x,C1y,C2x,C2y,privateKey = Key_Generation(Global_x,Global_y,a,prime)\n",
    "\n",
    "# Finding Message ASCII coordinates\n",
    "Mx,My = Message_Generation(message,prime)\n",
    "\n",
    "# Generate C = C1 + C2 cipherText\n",
    "cipher_x, cipher_y = Generation_CipherText(Mx,My,C2x,C2y,a,prime)\n",
    "\n",
    "# Decrypt the message sent\n",
    "Decryption_Process(C1x,C1y,cipher_x, cipher_y,privateKey,a,prime)"
   ]
  }
 ],
 "metadata": {
  "kernelspec": {
   "display_name": "Python 3",
   "language": "python",
   "name": "python3"
  },
  "language_info": {
   "codemirror_mode": {
    "name": "ipython",
    "version": 3.0
   },
   "file_extension": ".py",
   "mimetype": "text/x-python",
   "name": "python",
   "nbconvert_exporter": "python",
   "pygments_lexer": "ipython3",
   "version": "3.5.3"
  }
 },
 "nbformat": 4,
 "nbformat_minor": 0
}