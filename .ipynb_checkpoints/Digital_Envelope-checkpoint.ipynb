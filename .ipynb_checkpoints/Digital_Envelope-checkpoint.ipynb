{
 "cells": [
  {
   "cell_type": "markdown",
   "metadata": {},
   "source": [
    "# Digital Envelope"
   ]
  },
  {
   "cell_type": "code",
   "execution_count": 1,
   "metadata": {
    "collapsed": true
   },
   "outputs": [],
   "source": [
    "import uuid\n",
    "import hashlib\n",
    "from caesarcipher import CaesarCipher"
   ]
  },
  {
   "cell_type": "code",
   "execution_count": 2,
   "metadata": {
    "collapsed": true
   },
   "outputs": [],
   "source": [
    "# Function to compute gcd of 2 numbers\n",
    "def gcd(a,b):\n",
    "    while(b):\n",
    "        a, b = b, (a % b)\n",
    "    return a\n",
    "\n",
    "# Function to compute modulo inverse\n",
    "def modInverse(a,b):\n",
    "    a = a % b\n",
    "    for i in range(1,b):\n",
    "        if ((a*i) % b) == 1:\n",
    "            return i"
   ]
  },
  {
   "cell_type": "code",
   "execution_count": 3,
   "metadata": {
    "collapsed": true
   },
   "outputs": [],
   "source": [
    "# Function to perform hashing using  hashlib and uuid\n",
    "def hashing(word):\n",
    "    # uuid is used to generate a random number\n",
    "    salt = uuid.uuid4().hex\n",
    "    return hashlib.sha256(salt.encode() + word.encode()).hexdigest() + ':' + salt\n",
    "\n",
    "# Function to compare hash values\n",
    "def CompareHash(hashed_msz,new_msz):\n",
    "    password, salt = hashed_msz.split(':')\n",
    "    return password == hashlib.sha256(salt.encode() + new_msz.encode()).hexdigest()"
   ]
  }
 ],
 "metadata": {
  "kernelspec": {
   "display_name": "Python 3",
   "language": "python",
   "name": "python3"
  },
  "language_info": {
   "codemirror_mode": {
    "name": "ipython",
    "version": 3
   },
   "file_extension": ".py",
   "mimetype": "text/x-python",
   "name": "python",
   "nbconvert_exporter": "python",
   "pygments_lexer": "ipython3",
   "version": "3.5.3"
  }
 },
 "nbformat": 4,
 "nbformat_minor": 2
}
